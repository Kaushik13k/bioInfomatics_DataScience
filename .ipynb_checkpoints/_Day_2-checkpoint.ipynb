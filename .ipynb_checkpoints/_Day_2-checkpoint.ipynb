{
 "cells": [
  {
   "cell_type": "code",
   "execution_count": 2,
   "id": "b21266d2",
   "metadata": {},
   "outputs": [
    {
     "data": {
      "text/plain": [
       "list"
      ]
     },
     "execution_count": 2,
     "metadata": {},
     "output_type": "execute_result"
    }
   ],
   "source": [
    "# Tuple\n",
    "var1 = ['ATCG', 'AA', 'TCG']\n",
    "type(var1)"
   ]
  },
  {
   "cell_type": "code",
   "execution_count": 3,
   "id": "7b9f2d77",
   "metadata": {},
   "outputs": [
    {
     "data": {
      "text/plain": [
       "tuple"
      ]
     },
     "execution_count": 3,
     "metadata": {},
     "output_type": "execute_result"
    }
   ],
   "source": [
    "var2 = ('ATCG', 'AA', 'TCG')\n",
    "type(var2)"
   ]
  },
  {
   "cell_type": "code",
   "execution_count": 12,
   "id": "c517865a",
   "metadata": {},
   "outputs": [
    {
     "data": {
      "text/plain": [
       "{'dna1': 'ATG', 'dna2': 'AA'}"
      ]
     },
     "execution_count": 12,
     "metadata": {},
     "output_type": "execute_result"
    }
   ],
   "source": [
    "# Dictionary\n",
    "one_dict = {'dna1':'ATG', 'dna2':'AA'}\n",
    "one_dict"
   ]
  },
  {
   "cell_type": "code",
   "execution_count": 13,
   "id": "0d3c17f5",
   "metadata": {},
   "outputs": [
    {
     "data": {
      "text/plain": [
       "dict"
      ]
     },
     "execution_count": 13,
     "metadata": {},
     "output_type": "execute_result"
    }
   ],
   "source": [
    "type(one_dict)"
   ]
  },
  {
   "cell_type": "code",
   "execution_count": 14,
   "id": "1d82c329",
   "metadata": {},
   "outputs": [
    {
     "data": {
      "text/plain": [
       "'AA'"
      ]
     },
     "execution_count": 14,
     "metadata": {},
     "output_type": "execute_result"
    }
   ],
   "source": [
    "one_dict['dna2']"
   ]
  },
  {
   "cell_type": "code",
   "execution_count": 15,
   "id": "e513d34f",
   "metadata": {},
   "outputs": [
    {
     "data": {
      "text/plain": [
       "dict_keys(['dna1', 'dna2'])"
      ]
     },
     "execution_count": 15,
     "metadata": {},
     "output_type": "execute_result"
    }
   ],
   "source": [
    "one_dict.keys()"
   ]
  },
  {
   "cell_type": "code",
   "execution_count": 16,
   "id": "501731b3",
   "metadata": {},
   "outputs": [
    {
     "data": {
      "text/plain": [
       "dict_values(['ATG', 'AA'])"
      ]
     },
     "execution_count": 16,
     "metadata": {},
     "output_type": "execute_result"
    }
   ],
   "source": [
    "one_dict.values()"
   ]
  },
  {
   "cell_type": "code",
   "execution_count": 17,
   "id": "0e3594e9",
   "metadata": {},
   "outputs": [],
   "source": [
    "one_dict['dna3'] = 'TT'"
   ]
  },
  {
   "cell_type": "code",
   "execution_count": 18,
   "id": "531b440b",
   "metadata": {},
   "outputs": [
    {
     "data": {
      "text/plain": [
       "{'dna1': 'ATG', 'dna2': 'AA', 'dna3': 'TT'}"
      ]
     },
     "execution_count": 18,
     "metadata": {},
     "output_type": "execute_result"
    }
   ],
   "source": [
    "one_dict"
   ]
  },
  {
   "cell_type": "code",
   "execution_count": 19,
   "id": "f151cc19",
   "metadata": {},
   "outputs": [
    {
     "data": {
      "text/plain": [
       "dict_items([('dna1', 'ATG'), ('dna2', 'AA'), ('dna3', 'TT')])"
      ]
     },
     "execution_count": 19,
     "metadata": {},
     "output_type": "execute_result"
    }
   ],
   "source": [
    "one_dict.items()"
   ]
  },
  {
   "cell_type": "code",
   "execution_count": 25,
   "id": "49052a64",
   "metadata": {},
   "outputs": [],
   "source": [
    "# Set\n",
    "set1 = set([1,2,3,4,5])"
   ]
  },
  {
   "cell_type": "code",
   "execution_count": 26,
   "id": "747a7e11",
   "metadata": {},
   "outputs": [
    {
     "data": {
      "text/plain": [
       "{1, 2, 3, 4, 5}"
      ]
     },
     "execution_count": 26,
     "metadata": {},
     "output_type": "execute_result"
    }
   ],
   "source": [
    "set1"
   ]
  },
  {
   "cell_type": "code",
   "execution_count": 27,
   "id": "777acf86",
   "metadata": {},
   "outputs": [
    {
     "data": {
      "text/plain": [
       "set"
      ]
     },
     "execution_count": 27,
     "metadata": {},
     "output_type": "execute_result"
    }
   ],
   "source": [
    "type(set1)"
   ]
  },
  {
   "cell_type": "code",
   "execution_count": 30,
   "id": "7754a1b8",
   "metadata": {},
   "outputs": [],
   "source": [
    "set2 = set('ATTTTAAAGCCC')"
   ]
  },
  {
   "cell_type": "code",
   "execution_count": 32,
   "id": "2bfefcf5",
   "metadata": {},
   "outputs": [
    {
     "data": {
      "text/plain": [
       "{'A', 'C', 'G', 'T'}"
      ]
     },
     "execution_count": 32,
     "metadata": {},
     "output_type": "execute_result"
    }
   ],
   "source": [
    "set2"
   ]
  },
  {
   "cell_type": "code",
   "execution_count": 34,
   "id": "91f3767d",
   "metadata": {},
   "outputs": [],
   "source": [
    "set3 = set(['AT','TA','GA','AT'])"
   ]
  },
  {
   "cell_type": "code",
   "execution_count": 36,
   "id": "56cb3036",
   "metadata": {},
   "outputs": [
    {
     "data": {
      "text/plain": [
       "{'AT', 'GA', 'TA'}"
      ]
     },
     "execution_count": 36,
     "metadata": {},
     "output_type": "execute_result"
    }
   ],
   "source": [
    "set3"
   ]
  },
  {
   "cell_type": "code",
   "execution_count": 50,
   "id": "44875df4",
   "metadata": {},
   "outputs": [],
   "source": [
    "# Loops\n",
    "dna = 'AAGGTTGGCC'"
   ]
  },
  {
   "cell_type": "code",
   "execution_count": 44,
   "id": "a50fa0f3",
   "metadata": {},
   "outputs": [
    {
     "name": "stdout",
     "output_type": "stream",
     "text": [
      "A\n",
      "A\n",
      "G\n",
      "G\n",
      "T\n",
      "T\n",
      "G\n",
      "G\n",
      "C\n",
      "C\n"
     ]
    }
   ],
   "source": [
    "for i in dna:\n",
    "    print(i)"
   ]
  },
  {
   "cell_type": "code",
   "execution_count": 45,
   "id": "971cf2a1",
   "metadata": {},
   "outputs": [],
   "source": [
    "set4 = set(['TA', 'AT', 'GA', 'AT'])"
   ]
  },
  {
   "cell_type": "code",
   "execution_count": 46,
   "id": "a4b3e2a0",
   "metadata": {},
   "outputs": [
    {
     "name": "stdout",
     "output_type": "stream",
     "text": [
      "AT\n",
      "GA\n",
      "TA\n"
     ]
    }
   ],
   "source": [
    "for i in set4:\n",
    "    print(i)"
   ]
  },
  {
   "cell_type": "code",
   "execution_count": 49,
   "id": "471bc52a",
   "metadata": {},
   "outputs": [
    {
     "name": "stdout",
     "output_type": "stream",
     "text": [
      "TA\n",
      "AT\n",
      "GA\n",
      "AT\n"
     ]
    }
   ],
   "source": [
    "dna1 = ['TA', 'AT', 'GA', 'AT']\n",
    "for i in dna:\n",
    "    print(i)"
   ]
  },
  {
   "cell_type": "code",
   "execution_count": 51,
   "id": "89daff89",
   "metadata": {},
   "outputs": [
    {
     "data": {
      "text/plain": [
       "4"
      ]
     },
     "execution_count": 51,
     "metadata": {},
     "output_type": "execute_result"
    }
   ],
   "source": [
    "len(dna1)"
   ]
  },
  {
   "cell_type": "code",
   "execution_count": 57,
   "id": "548d37cf",
   "metadata": {},
   "outputs": [
    {
     "name": "stdout",
     "output_type": "stream",
     "text": [
      "Index 0\n",
      "Index 1\n",
      "Index 2\n",
      "Index 3\n"
     ]
    }
   ],
   "source": [
    "i=0\n",
    "while i<len(dna1):\n",
    "    print(\"Index\",i)\n",
    "    i+=1"
   ]
  },
  {
   "cell_type": "code",
   "execution_count": 62,
   "id": "c752f554",
   "metadata": {},
   "outputs": [
    {
     "name": "stdout",
     "output_type": "stream",
     "text": [
      "at index 0 the value is  TA\n",
      "at index 1 the value is  AT\n",
      "at index 2 the value is  GA\n",
      "at index 3 the value is  AT\n"
     ]
    },
    {
     "ename": "IndexError",
     "evalue": "list index out of range",
     "output_type": "error",
     "traceback": [
      "\u001b[1;31m---------------------------------------------------------------------------\u001b[0m",
      "\u001b[1;31mIndexError\u001b[0m                                Traceback (most recent call last)",
      "\u001b[1;32m<ipython-input-62-7537c995ca8a>\u001b[0m in \u001b[0;36m<module>\u001b[1;34m\u001b[0m\n\u001b[0;32m      1\u001b[0m \u001b[0mi\u001b[0m \u001b[1;33m=\u001b[0m \u001b[1;36m0\u001b[0m\u001b[1;33m\u001b[0m\u001b[1;33m\u001b[0m\u001b[0m\n\u001b[0;32m      2\u001b[0m \u001b[1;32mwhile\u001b[0m \u001b[0mi\u001b[0m\u001b[1;33m<\u001b[0m\u001b[0mlen\u001b[0m\u001b[1;33m(\u001b[0m\u001b[0mdna\u001b[0m\u001b[1;33m)\u001b[0m\u001b[1;33m:\u001b[0m\u001b[1;33m\u001b[0m\u001b[1;33m\u001b[0m\u001b[0m\n\u001b[1;32m----> 3\u001b[1;33m     \u001b[0mprint\u001b[0m\u001b[1;33m(\u001b[0m\u001b[1;34m\"at index\"\u001b[0m\u001b[1;33m,\u001b[0m \u001b[0mi\u001b[0m\u001b[1;33m,\u001b[0m \u001b[1;34m\"the value is \"\u001b[0m\u001b[1;33m,\u001b[0m \u001b[0mdna1\u001b[0m\u001b[1;33m[\u001b[0m\u001b[0mi\u001b[0m\u001b[1;33m]\u001b[0m\u001b[1;33m)\u001b[0m\u001b[1;33m\u001b[0m\u001b[1;33m\u001b[0m\u001b[0m\n\u001b[0m\u001b[0;32m      4\u001b[0m     \u001b[0mi\u001b[0m\u001b[1;33m+=\u001b[0m\u001b[1;36m1\u001b[0m\u001b[1;33m\u001b[0m\u001b[1;33m\u001b[0m\u001b[0m\n",
      "\u001b[1;31mIndexError\u001b[0m: list index out of range"
     ]
    }
   ],
   "source": [
    "i = 0\n",
    "while i<len(dna):\n",
    "    print(\"at index\", i, \"the value is \", dna1[i])\n",
    "    i+=1"
   ]
  },
  {
   "cell_type": "code",
   "execution_count": 64,
   "id": "ac0b9ea1",
   "metadata": {},
   "outputs": [
    {
     "data": {
      "text/plain": [
       "'AAGGTTGGCC'"
      ]
     },
     "execution_count": 64,
     "metadata": {},
     "output_type": "execute_result"
    }
   ],
   "source": [
    "dna"
   ]
  },
  {
   "cell_type": "code",
   "execution_count": 65,
   "id": "c7ea951e",
   "metadata": {},
   "outputs": [
    {
     "name": "stdout",
     "output_type": "stream",
     "text": [
      "A\n",
      "A\n"
     ]
    }
   ],
   "source": [
    "for base in dna:\n",
    "    if base == 'A':\n",
    "        print(base)"
   ]
  },
  {
   "cell_type": "code",
   "execution_count": 66,
   "id": "e1e07901",
   "metadata": {},
   "outputs": [
    {
     "name": "stdout",
     "output_type": "stream",
     "text": [
      "base is A\n",
      "base is A\n",
      "base is not A and it is: G\n",
      "base is not A and it is: G\n",
      "base is not A and it is: T\n",
      "base is not A and it is: T\n",
      "base is not A and it is: G\n",
      "base is not A and it is: G\n",
      "base is not A and it is: C\n",
      "base is not A and it is: C\n"
     ]
    }
   ],
   "source": [
    "for base in dna:\n",
    "    if base == 'A':\n",
    "        print(\"base is A\")\n",
    "    else:\n",
    "        print(\"base is not A and it is:\", base)"
   ]
  },
  {
   "cell_type": "code",
   "execution_count": null,
   "id": "74513698",
   "metadata": {},
   "outputs": [],
   "source": []
  }
 ],
 "metadata": {
  "kernelspec": {
   "display_name": "Python 3",
   "language": "python",
   "name": "python3"
  },
  "language_info": {
   "codemirror_mode": {
    "name": "ipython",
    "version": 3
   },
   "file_extension": ".py",
   "mimetype": "text/x-python",
   "name": "python",
   "nbconvert_exporter": "python",
   "pygments_lexer": "ipython3",
   "version": "3.8.8"
  }
 },
 "nbformat": 4,
 "nbformat_minor": 5
}
