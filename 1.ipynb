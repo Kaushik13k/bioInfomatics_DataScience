{
 "cells": [
  {
   "cell_type": "code",
   "execution_count": 2,
   "id": "b51e018b",
   "metadata": {},
   "outputs": [
    {
     "data": {
      "text/plain": [
       "['A', 'GAC']"
      ]
     },
     "execution_count": 2,
     "metadata": {},
     "output_type": "execute_result"
    }
   ],
   "source": [
    "# Split\n",
    "a=\"ATGAC\"\n",
    "dna.split(\"T\")"
   ]
  },
  {
   "cell_type": "code",
   "execution_count": 3,
   "id": "d8cc7825",
   "metadata": {},
   "outputs": [],
   "source": [
    "dna_list = dna.split(\"T\")"
   ]
  },
  {
   "cell_type": "code",
   "execution_count": 4,
   "id": "bcbc74aa",
   "metadata": {},
   "outputs": [
    {
     "data": {
      "text/plain": [
       "['A', 'GAC']"
      ]
     },
     "execution_count": 4,
     "metadata": {},
     "output_type": "execute_result"
    }
   ],
   "source": [
    "dna_list"
   ]
  },
  {
   "cell_type": "code",
   "execution_count": 5,
   "id": "19390e4a",
   "metadata": {},
   "outputs": [
    {
     "data": {
      "text/plain": [
       "list"
      ]
     },
     "execution_count": 5,
     "metadata": {},
     "output_type": "execute_result"
    }
   ],
   "source": [
    "type(dna_list)"
   ]
  },
  {
   "cell_type": "code",
   "execution_count": 15,
   "id": "26124d7a",
   "metadata": {},
   "outputs": [],
   "source": [
    "dna=\"ATGAC , ATCG\"\n",
    "dna_list = dna.split(\",\")"
   ]
  },
  {
   "cell_type": "code",
   "execution_count": 16,
   "id": "59c86343",
   "metadata": {},
   "outputs": [
    {
     "data": {
      "text/plain": [
       "['ATGAC ', ' ATCG']"
      ]
     },
     "execution_count": 16,
     "metadata": {},
     "output_type": "execute_result"
    }
   ],
   "source": [
    "dna_list"
   ]
  },
  {
   "cell_type": "code",
   "execution_count": 17,
   "id": "68c2bebe",
   "metadata": {},
   "outputs": [
    {
     "data": {
      "text/plain": [
       "'ATGAC - ATCG'"
      ]
     },
     "execution_count": 17,
     "metadata": {},
     "output_type": "execute_result"
    }
   ],
   "source": [
    "# JOIN\n",
    "'-'.join(dna_list)"
   ]
  },
  {
   "cell_type": "code",
   "execution_count": 18,
   "id": "c8db0535",
   "metadata": {},
   "outputs": [
    {
     "data": {
      "text/plain": [
       "'ATGAC , ATCG'"
      ]
     },
     "execution_count": 18,
     "metadata": {},
     "output_type": "execute_result"
    }
   ],
   "source": [
    "','.join(dna_list)"
   ]
  },
  {
   "cell_type": "code",
   "execution_count": 19,
   "id": "e48b17ec",
   "metadata": {},
   "outputs": [
    {
     "data": {
      "text/plain": [
       "'ATGAC  ATCG'"
      ]
     },
     "execution_count": 19,
     "metadata": {},
     "output_type": "execute_result"
    }
   ],
   "source": [
    "''.join(dna_list)"
   ]
  },
  {
   "cell_type": "code",
   "execution_count": 20,
   "id": "5757e2ce",
   "metadata": {},
   "outputs": [
    {
     "data": {
      "text/plain": [
       "'atgac , atcg'"
      ]
     },
     "execution_count": 20,
     "metadata": {},
     "output_type": "execute_result"
    }
   ],
   "source": [
    "# Conversion Upper to Lower or Vice-versa\n",
    "dna.lower()"
   ]
  },
  {
   "cell_type": "code",
   "execution_count": 21,
   "id": "8dd0ad69",
   "metadata": {},
   "outputs": [
    {
     "data": {
      "text/plain": [
       "'ATGAC , ATCG'"
      ]
     },
     "execution_count": 21,
     "metadata": {},
     "output_type": "execute_result"
    }
   ],
   "source": [
    "dna.upper()"
   ]
  },
  {
   "cell_type": "code",
   "execution_count": 22,
   "id": "867ab20d",
   "metadata": {},
   "outputs": [
    {
     "data": {
      "text/plain": [
       "'ATGAC - ATCG'"
      ]
     },
     "execution_count": 22,
     "metadata": {},
     "output_type": "execute_result"
    }
   ],
   "source": [
    "# Replace\n",
    "dna.replace(\",\",\"-\")"
   ]
  },
  {
   "cell_type": "code",
   "execution_count": 23,
   "id": "5e6a47ff",
   "metadata": {},
   "outputs": [
    {
     "data": {
      "text/plain": [
       "'BTGBC , BTCG'"
      ]
     },
     "execution_count": 23,
     "metadata": {},
     "output_type": "execute_result"
    }
   ],
   "source": [
    "dna.replace(\"A\",\"B\")"
   ]
  },
  {
   "cell_type": "code",
   "execution_count": 24,
   "id": "2aab2c72",
   "metadata": {},
   "outputs": [
    {
     "data": {
      "text/plain": [
       "0"
      ]
     },
     "execution_count": 24,
     "metadata": {},
     "output_type": "execute_result"
    }
   ],
   "source": [
    "# Finding\n",
    "dna.find(\"A\")"
   ]
  },
  {
   "cell_type": "code",
   "execution_count": 25,
   "id": "485f21eb",
   "metadata": {},
   "outputs": [
    {
     "data": {
      "text/plain": [
       "1"
      ]
     },
     "execution_count": 25,
     "metadata": {},
     "output_type": "execute_result"
    }
   ],
   "source": [
    "dna.find(\"T\")"
   ]
  },
  {
   "cell_type": "code",
   "execution_count": 26,
   "id": "cf954f80",
   "metadata": {},
   "outputs": [
    {
     "data": {
      "text/plain": [
       "2"
      ]
     },
     "execution_count": 26,
     "metadata": {},
     "output_type": "execute_result"
    }
   ],
   "source": [
    "dna.find(\"G\")"
   ]
  },
  {
   "cell_type": "code",
   "execution_count": 30,
   "id": "2c2e5c07",
   "metadata": {},
   "outputs": [
    {
     "data": {
      "text/plain": [
       "0"
      ]
     },
     "execution_count": 30,
     "metadata": {},
     "output_type": "execute_result"
    }
   ],
   "source": [
    "dna.index(\"A\")"
   ]
  },
  {
   "cell_type": "code",
   "execution_count": 31,
   "id": "f4a8048f",
   "metadata": {},
   "outputs": [
    {
     "data": {
      "text/plain": [
       "True"
      ]
     },
     "execution_count": 31,
     "metadata": {},
     "output_type": "execute_result"
    }
   ],
   "source": [
    "# Startswith and Endswiths\n",
    "dna.startswith(\"A\")"
   ]
  },
  {
   "cell_type": "code",
   "execution_count": 32,
   "id": "62aba045",
   "metadata": {},
   "outputs": [
    {
     "data": {
      "text/plain": [
       "False"
      ]
     },
     "execution_count": 32,
     "metadata": {},
     "output_type": "execute_result"
    }
   ],
   "source": [
    "dna.startswith(\"B\")"
   ]
  },
  {
   "cell_type": "code",
   "execution_count": 33,
   "id": "f1060945",
   "metadata": {},
   "outputs": [],
   "source": [
    "# Create the complimentary standard of DNA\n",
    "# Reverse\n",
    "dna = 'AATTGGCC'"
   ]
  },
  {
   "cell_type": "code",
   "execution_count": 35,
   "id": "b60bd061",
   "metadata": {},
   "outputs": [],
   "source": [
    "table = dna.maketrans({'A':'T', 'T':'A', 'G':'C', 'C':'G'})"
   ]
  },
  {
   "cell_type": "code",
   "execution_count": 36,
   "id": "5461fe1c",
   "metadata": {},
   "outputs": [
    {
     "name": "stdout",
     "output_type": "stream",
     "text": [
      "TTAACCGG\n"
     ]
    }
   ],
   "source": [
    "print(dna.translate(table))"
   ]
  },
  {
   "cell_type": "code",
   "execution_count": 37,
   "id": "5eef8f7c",
   "metadata": {},
   "outputs": [
    {
     "name": "stdout",
     "output_type": "stream",
     "text": [
      "TT\n"
     ]
    }
   ],
   "source": [
    "rna = 'AA'\n",
    "print(rna.translate(table))"
   ]
  },
  {
   "cell_type": "code",
   "execution_count": 38,
   "id": "a1ec909f",
   "metadata": {},
   "outputs": [
    {
     "data": {
      "text/plain": [
       "['ATGAC ', ' ATCG']"
      ]
     },
     "execution_count": 38,
     "metadata": {},
     "output_type": "execute_result"
    }
   ],
   "source": [
    "# List Functions\n",
    "dna_list"
   ]
  },
  {
   "cell_type": "code",
   "execution_count": 39,
   "id": "a80c58f9",
   "metadata": {},
   "outputs": [
    {
     "data": {
      "text/plain": [
       "'ATGAC '"
      ]
     },
     "execution_count": 39,
     "metadata": {},
     "output_type": "execute_result"
    }
   ],
   "source": [
    "dna_list[0]"
   ]
  },
  {
   "cell_type": "code",
   "execution_count": 40,
   "id": "28fee9af",
   "metadata": {},
   "outputs": [
    {
     "data": {
      "text/plain": [
       "' ATCG'"
      ]
     },
     "execution_count": 40,
     "metadata": {},
     "output_type": "execute_result"
    }
   ],
   "source": [
    "dna_list[1]"
   ]
  },
  {
   "cell_type": "code",
   "execution_count": 41,
   "id": "a3d65840",
   "metadata": {},
   "outputs": [],
   "source": [
    "dna_list.append('AAA')"
   ]
  },
  {
   "cell_type": "code",
   "execution_count": 42,
   "id": "9090b87d",
   "metadata": {},
   "outputs": [
    {
     "data": {
      "text/plain": [
       "['ATGAC ', ' ATCG', 'AAA']"
      ]
     },
     "execution_count": 42,
     "metadata": {},
     "output_type": "execute_result"
    }
   ],
   "source": [
    "dna_list"
   ]
  },
  {
   "cell_type": "code",
   "execution_count": 43,
   "id": "2e9a8a91",
   "metadata": {},
   "outputs": [],
   "source": [
    "dna2 = ['AT', 'TT']\n",
    "dna_list.append(dna2)"
   ]
  },
  {
   "cell_type": "code",
   "execution_count": 44,
   "id": "4ecc1766",
   "metadata": {},
   "outputs": [
    {
     "data": {
      "text/plain": [
       "['ATGAC ', ' ATCG', 'AAA', ['AT', 'TT']]"
      ]
     },
     "execution_count": 44,
     "metadata": {},
     "output_type": "execute_result"
    }
   ],
   "source": [
    "dna_list"
   ]
  },
  {
   "cell_type": "code",
   "execution_count": 45,
   "id": "f887ee0f",
   "metadata": {},
   "outputs": [
    {
     "data": {
      "text/plain": [
       "['AT', 'TT']"
      ]
     },
     "execution_count": 45,
     "metadata": {},
     "output_type": "execute_result"
    }
   ],
   "source": [
    "dna_list[3]"
   ]
  },
  {
   "cell_type": "code",
   "execution_count": 46,
   "id": "9cf86cf8",
   "metadata": {},
   "outputs": [
    {
     "data": {
      "text/plain": [
       "'TT'"
      ]
     },
     "execution_count": 46,
     "metadata": {},
     "output_type": "execute_result"
    }
   ],
   "source": [
    "dna_list[3][1]"
   ]
  },
  {
   "cell_type": "code",
   "execution_count": 50,
   "id": "d0c3abc6",
   "metadata": {},
   "outputs": [
    {
     "data": {
      "text/plain": [
       "['ATGAC ', ' ATCG', 'AAA']"
      ]
     },
     "execution_count": 50,
     "metadata": {},
     "output_type": "execute_result"
    }
   ],
   "source": [
    "dna_list = ['ATGAC ', ' ATCG', 'AAA']\n",
    "dna_list"
   ]
  },
  {
   "cell_type": "code",
   "execution_count": 51,
   "id": "8d6f3e9a",
   "metadata": {},
   "outputs": [
    {
     "data": {
      "text/plain": [
       "['ATGAC ', ' ATCG', 'AAA', 'AT', 'TT']"
      ]
     },
     "execution_count": 51,
     "metadata": {},
     "output_type": "execute_result"
    }
   ],
   "source": [
    "dna_list.extend(dna2)\n",
    "dna_list"
   ]
  },
  {
   "cell_type": "code",
   "execution_count": 53,
   "id": "235acae9",
   "metadata": {},
   "outputs": [],
   "source": [
    "dna_list.insert(1,\"CCC\")"
   ]
  },
  {
   "cell_type": "code",
   "execution_count": 54,
   "id": "ba54b26c",
   "metadata": {},
   "outputs": [
    {
     "data": {
      "text/plain": [
       "['ATGAC ', 'CCC', ' ATCG', 'AAA', 'AT', 'TT']"
      ]
     },
     "execution_count": 54,
     "metadata": {},
     "output_type": "execute_result"
    }
   ],
   "source": [
    "dna_list"
   ]
  },
  {
   "cell_type": "code",
   "execution_count": 55,
   "id": "d6a0fe36",
   "metadata": {},
   "outputs": [
    {
     "data": {
      "text/plain": [
       "['ATGAC ', ' ATCG', 'AAA', 'AT', 'TT']"
      ]
     },
     "execution_count": 55,
     "metadata": {},
     "output_type": "execute_result"
    }
   ],
   "source": [
    "dna_list.remove(\"CCC\")\n",
    "dna_list"
   ]
  },
  {
   "cell_type": "code",
   "execution_count": 57,
   "id": "8c7a23d8",
   "metadata": {},
   "outputs": [
    {
     "data": {
      "text/plain": [
       "'AAA'"
      ]
     },
     "execution_count": 57,
     "metadata": {},
     "output_type": "execute_result"
    }
   ],
   "source": [
    "dna_list.pop(2)"
   ]
  },
  {
   "cell_type": "code",
   "execution_count": 58,
   "id": "8cbe4799",
   "metadata": {},
   "outputs": [
    {
     "data": {
      "text/plain": [
       "['ATGAC ', ' ATCG', 'AT', 'TT']"
      ]
     },
     "execution_count": 58,
     "metadata": {},
     "output_type": "execute_result"
    }
   ],
   "source": [
    "dna_list"
   ]
  },
  {
   "cell_type": "code",
   "execution_count": 64,
   "id": "6b36db36",
   "metadata": {},
   "outputs": [],
   "source": [
    "numbers = [0, 5,6 ,6,5 ,1, 3,2, 3]"
   ]
  },
  {
   "cell_type": "code",
   "execution_count": 65,
   "id": "13e0146a",
   "metadata": {},
   "outputs": [],
   "source": [
    "numbers.sort()"
   ]
  },
  {
   "cell_type": "code",
   "execution_count": 66,
   "id": "ef8140ce",
   "metadata": {},
   "outputs": [
    {
     "data": {
      "text/plain": [
       "[0, 1, 2, 3, 3, 5, 5, 6, 6]"
      ]
     },
     "execution_count": 66,
     "metadata": {},
     "output_type": "execute_result"
    }
   ],
   "source": [
    "numbers"
   ]
  },
  {
   "cell_type": "code",
   "execution_count": 67,
   "id": "fe348e72",
   "metadata": {},
   "outputs": [
    {
     "data": {
      "text/plain": [
       "6"
      ]
     },
     "execution_count": 67,
     "metadata": {},
     "output_type": "execute_result"
    }
   ],
   "source": [
    "max(numbers)"
   ]
  },
  {
   "cell_type": "code",
   "execution_count": 68,
   "id": "09602f58",
   "metadata": {},
   "outputs": [
    {
     "data": {
      "text/plain": [
       "{0, 1, 2, 3, 5, 6}"
      ]
     },
     "execution_count": 68,
     "metadata": {},
     "output_type": "execute_result"
    }
   ],
   "source": [
    "# Get the unique\n",
    "set(numbers)"
   ]
  },
  {
   "cell_type": "code",
   "execution_count": null,
   "id": "fc855750",
   "metadata": {},
   "outputs": [],
   "source": []
  }
 ],
 "metadata": {
  "kernelspec": {
   "display_name": "Python 3",
   "language": "python",
   "name": "python3"
  },
  "language_info": {
   "codemirror_mode": {
    "name": "ipython",
    "version": 3
   },
   "file_extension": ".py",
   "mimetype": "text/x-python",
   "name": "python",
   "nbconvert_exporter": "python",
   "pygments_lexer": "ipython3",
   "version": "3.8.8"
  }
 },
 "nbformat": 4,
 "nbformat_minor": 5
}
