{
 "cells": [
  {
   "cell_type": "code",
   "execution_count": 1,
   "id": "7e6e325d",
   "metadata": {},
   "outputs": [],
   "source": [
    "# METHOD\n",
    "def check(seq):\n",
    "    seq = str(seq)\n",
    "    if 'U' in seq:\n",
    "        return 'RNA'\n",
    "    elif 'T' in seq:\n",
    "        return 'DNA'\n",
    "    else:\n",
    "        return 'NOT SURE'"
   ]
  },
  {
   "cell_type": "code",
   "execution_count": 7,
   "id": "ab8cacdb",
   "metadata": {},
   "outputs": [],
   "source": [
    "seq1 = 'ATTTCGC'\n",
    "seq2 = 'AUGC'\n",
    "seq3 = 'AGCGGC'\n",
    "seq4 = ['ATTTCGC', 'AUGC','AGCGGC']"
   ]
  },
  {
   "cell_type": "code",
   "execution_count": 8,
   "id": "fc8d9a8e",
   "metadata": {},
   "outputs": [
    {
     "name": "stdout",
     "output_type": "stream",
     "text": [
      "running for seq1 DNA\n",
      "running for seq2 RNA\n",
      "running for seq3 NOT SURE\n"
     ]
    }
   ],
   "source": [
    "print('running for seq1', check(seq1))\n",
    "print('running for seq2', check(seq2))\n",
    "print('running for seq3', check(seq3))"
   ]
  },
  {
   "cell_type": "code",
   "execution_count": 12,
   "id": "f9574f96",
   "metadata": {},
   "outputs": [
    {
     "name": "stdout",
     "output_type": "stream",
     "text": [
      "running for ATTTCGC --> DNA\n",
      "running for AUGC --> RNA\n",
      "running for AGCGGC --> NOT SURE\n"
     ]
    }
   ],
   "source": [
    "for i in seq4:\n",
    "    print(f'running for {i} -->', check(i))"
   ]
  },
  {
   "cell_type": "code",
   "execution_count": 14,
   "id": "3ad9c117",
   "metadata": {},
   "outputs": [],
   "source": [
    "# Class\n",
    "class n:\n",
    "    def check(self, seq):\n",
    "        seq = str(seq)\n",
    "        if 'U' in seq:\n",
    "            return 'RNA'\n",
    "        elif 'T' in seq:\n",
    "            return 'DNA'\n",
    "        else:\n",
    "            return 'NOT SURE'"
   ]
  },
  {
   "cell_type": "code",
   "execution_count": 15,
   "id": "ded9e5ec",
   "metadata": {},
   "outputs": [],
   "source": [
    "seq1 = 'ATTTCGC'\n",
    "seq2 = 'AUGC'\n",
    "seq3 = 'AGCGGC'\n",
    "seq4 = ['ATTTCGC', 'AUGC','AGCGGC']"
   ]
  },
  {
   "cell_type": "code",
   "execution_count": 16,
   "id": "915d9961",
   "metadata": {},
   "outputs": [
    {
     "name": "stdout",
     "output_type": "stream",
     "text": [
      "running for seq1 DNA\n",
      "running for seq2 RNA\n",
      "running for seq3 NOT SURE\n"
     ]
    }
   ],
   "source": [
    "print('running for seq1', n().check(seq1))\n",
    "print('running for seq2', n().check(seq2))\n",
    "print('running for seq3', n().check(seq3))"
   ]
  },
  {
   "cell_type": "code",
   "execution_count": 17,
   "id": "7cd5c052",
   "metadata": {},
   "outputs": [
    {
     "name": "stdout",
     "output_type": "stream",
     "text": [
      "running for ATTTCGC --> DNA\n",
      "running for AUGC --> RNA\n",
      "running for AGCGGC --> NOT SURE\n"
     ]
    }
   ],
   "source": [
    "for i in seq4:\n",
    "    print(f'running for {i} -->', n().check(i))"
   ]
  },
  {
   "cell_type": "code",
   "execution_count": null,
   "id": "b24e092b",
   "metadata": {},
   "outputs": [],
   "source": [
    "# Read from a file\n",
    "# Use pandas!!"
   ]
  }
 ],
 "metadata": {
  "kernelspec": {
   "display_name": "Python 3",
   "language": "python",
   "name": "python3"
  },
  "language_info": {
   "codemirror_mode": {
    "name": "ipython",
    "version": 3
   },
   "file_extension": ".py",
   "mimetype": "text/x-python",
   "name": "python",
   "nbconvert_exporter": "python",
   "pygments_lexer": "ipython3",
   "version": "3.8.8"
  }
 },
 "nbformat": 4,
 "nbformat_minor": 5
}
